{
 "cells": [
  {
   "cell_type": "markdown",
   "metadata": {},
   "source": [
    "<h1>Credit Card Fraud Detection</h1>"
   ]
  },
  {
   "cell_type": "code",
   "execution_count": 1,
   "metadata": {},
   "outputs": [],
   "source": [
    "import numpy as np\n",
    "import pandas as pd\n",
    "import matplotlib.pyplot as plt\n",
    "\n",
    "%matplotlib inline"
   ]
  },
  {
   "cell_type": "code",
   "execution_count": 7,
   "metadata": {},
   "outputs": [],
   "source": [
    "data=pd.read_csv('Sample.csv')"
   ]
  },
  {
   "cell_type": "code",
   "execution_count": 6,
   "metadata": {},
   "outputs": [
    {
     "name": "stdout",
     "output_type": "stream",
     "text": [
      "<class 'pandas.core.frame.DataFrame'>\n",
      "RangeIndex: 85442 entries, 0 to 85441\n",
      "Data columns (total 32 columns):\n",
      "Unnamed: 0    85442 non-null int64\n",
      "Time          85442 non-null float64\n",
      "V1            85442 non-null float64\n",
      "V2            85442 non-null float64\n",
      "V3            85442 non-null float64\n",
      "V4            85442 non-null float64\n",
      "V5            85442 non-null float64\n",
      "V6            85442 non-null float64\n",
      "V7            85442 non-null float64\n",
      "V8            85442 non-null float64\n",
      "V9            85442 non-null float64\n",
      "V10           85442 non-null float64\n",
      "V11           85442 non-null float64\n",
      "V12           85442 non-null float64\n",
      "V13           85442 non-null float64\n",
      "V14           85442 non-null float64\n",
      "V15           85442 non-null float64\n",
      "V16           85442 non-null float64\n",
      "V17           85442 non-null float64\n",
      "V18           85442 non-null float64\n",
      "V19           85442 non-null float64\n",
      "V20           85442 non-null float64\n",
      "V21           85442 non-null float64\n",
      "V22           85442 non-null float64\n",
      "V23           85442 non-null float64\n",
      "V24           85442 non-null float64\n",
      "V25           85442 non-null float64\n",
      "V26           85442 non-null float64\n",
      "V27           85442 non-null float64\n",
      "V28           85442 non-null float64\n",
      "Amount        85442 non-null float64\n",
      "Class         85442 non-null int64\n",
      "dtypes: float64(30), int64(2)\n",
      "memory usage: 20.9 MB\n"
     ]
    }
   ],
   "source": [
    "data.info()"
   ]
  },
  {
   "cell_type": "code",
   "execution_count": 50,
   "metadata": {},
   "outputs": [
    {
     "data": {
      "text/html": [
       "<div>\n",
       "<style>\n",
       "    .dataframe thead tr:only-child th {\n",
       "        text-align: right;\n",
       "    }\n",
       "\n",
       "    .dataframe thead th {\n",
       "        text-align: left;\n",
       "    }\n",
       "\n",
       "    .dataframe tbody tr th {\n",
       "        vertical-align: top;\n",
       "    }\n",
       "</style>\n",
       "<table border=\"1\" class=\"dataframe\">\n",
       "  <thead>\n",
       "    <tr style=\"text-align: right;\">\n",
       "      <th></th>\n",
       "      <th>Unnamed: 0</th>\n",
       "      <th>Time</th>\n",
       "      <th>V1</th>\n",
       "      <th>V2</th>\n",
       "      <th>V3</th>\n",
       "      <th>V4</th>\n",
       "      <th>V5</th>\n",
       "      <th>V6</th>\n",
       "      <th>V7</th>\n",
       "      <th>V8</th>\n",
       "      <th>...</th>\n",
       "      <th>V21</th>\n",
       "      <th>V22</th>\n",
       "      <th>V23</th>\n",
       "      <th>V24</th>\n",
       "      <th>V25</th>\n",
       "      <th>V26</th>\n",
       "      <th>V27</th>\n",
       "      <th>V28</th>\n",
       "      <th>Amount</th>\n",
       "      <th>Class</th>\n",
       "    </tr>\n",
       "  </thead>\n",
       "  <tbody>\n",
       "    <tr>\n",
       "      <th>0</th>\n",
       "      <td>182545</td>\n",
       "      <td>125447.0</td>\n",
       "      <td>1.816429</td>\n",
       "      <td>0.146354</td>\n",
       "      <td>0.046576</td>\n",
       "      <td>3.598831</td>\n",
       "      <td>-0.119489</td>\n",
       "      <td>0.764143</td>\n",
       "      <td>-0.673691</td>\n",
       "      <td>0.375930</td>\n",
       "      <td>...</td>\n",
       "      <td>0.235474</td>\n",
       "      <td>0.539597</td>\n",
       "      <td>0.240714</td>\n",
       "      <td>0.691290</td>\n",
       "      <td>-0.349606</td>\n",
       "      <td>-0.055401</td>\n",
       "      <td>-0.011830</td>\n",
       "      <td>-0.033766</td>\n",
       "      <td>18.92</td>\n",
       "      <td>0</td>\n",
       "    </tr>\n",
       "    <tr>\n",
       "      <th>1</th>\n",
       "      <td>264950</td>\n",
       "      <td>161666.0</td>\n",
       "      <td>-1.132632</td>\n",
       "      <td>-0.217753</td>\n",
       "      <td>-1.018984</td>\n",
       "      <td>-0.725154</td>\n",
       "      <td>1.624606</td>\n",
       "      <td>-1.123202</td>\n",
       "      <td>0.151016</td>\n",
       "      <td>0.322056</td>\n",
       "      <td>...</td>\n",
       "      <td>0.439623</td>\n",
       "      <td>0.855120</td>\n",
       "      <td>-0.058180</td>\n",
       "      <td>0.115257</td>\n",
       "      <td>-0.786822</td>\n",
       "      <td>0.591033</td>\n",
       "      <td>0.308595</td>\n",
       "      <td>0.055496</td>\n",
       "      <td>24.95</td>\n",
       "      <td>0</td>\n",
       "    </tr>\n",
       "    <tr>\n",
       "      <th>2</th>\n",
       "      <td>278614</td>\n",
       "      <td>168323.0</td>\n",
       "      <td>1.754189</td>\n",
       "      <td>0.230348</td>\n",
       "      <td>0.019154</td>\n",
       "      <td>3.927093</td>\n",
       "      <td>-0.087202</td>\n",
       "      <td>0.227146</td>\n",
       "      <td>-0.115704</td>\n",
       "      <td>0.053371</td>\n",
       "      <td>...</td>\n",
       "      <td>-0.374842</td>\n",
       "      <td>-1.136878</td>\n",
       "      <td>0.441901</td>\n",
       "      <td>-0.183241</td>\n",
       "      <td>-0.580846</td>\n",
       "      <td>-0.508929</td>\n",
       "      <td>-0.005608</td>\n",
       "      <td>-0.019285</td>\n",
       "      <td>64.40</td>\n",
       "      <td>0</td>\n",
       "    </tr>\n",
       "    <tr>\n",
       "      <th>3</th>\n",
       "      <td>10160</td>\n",
       "      <td>15578.0</td>\n",
       "      <td>1.028419</td>\n",
       "      <td>0.252588</td>\n",
       "      <td>1.744422</td>\n",
       "      <td>2.801771</td>\n",
       "      <td>-0.613426</td>\n",
       "      <td>0.860407</td>\n",
       "      <td>-0.849896</td>\n",
       "      <td>0.375564</td>\n",
       "      <td>...</td>\n",
       "      <td>-0.148324</td>\n",
       "      <td>-0.044123</td>\n",
       "      <td>0.103698</td>\n",
       "      <td>0.142224</td>\n",
       "      <td>0.132222</td>\n",
       "      <td>-0.080803</td>\n",
       "      <td>0.026917</td>\n",
       "      <td>0.016913</td>\n",
       "      <td>0.00</td>\n",
       "      <td>0</td>\n",
       "    </tr>\n",
       "    <tr>\n",
       "      <th>4</th>\n",
       "      <td>64</td>\n",
       "      <td>42.0</td>\n",
       "      <td>-0.522666</td>\n",
       "      <td>1.009923</td>\n",
       "      <td>0.276470</td>\n",
       "      <td>1.475289</td>\n",
       "      <td>-0.707013</td>\n",
       "      <td>0.355243</td>\n",
       "      <td>1.559849</td>\n",
       "      <td>-0.399579</td>\n",
       "      <td>...</td>\n",
       "      <td>0.172401</td>\n",
       "      <td>1.011543</td>\n",
       "      <td>0.069666</td>\n",
       "      <td>0.157820</td>\n",
       "      <td>-1.109224</td>\n",
       "      <td>-0.302369</td>\n",
       "      <td>0.318170</td>\n",
       "      <td>0.316910</td>\n",
       "      <td>243.66</td>\n",
       "      <td>0</td>\n",
       "    </tr>\n",
       "  </tbody>\n",
       "</table>\n",
       "<p>5 rows × 32 columns</p>\n",
       "</div>"
      ],
      "text/plain": [
       "   Unnamed: 0      Time        V1        V2        V3        V4        V5  \\\n",
       "0      182545  125447.0  1.816429  0.146354  0.046576  3.598831 -0.119489   \n",
       "1      264950  161666.0 -1.132632 -0.217753 -1.018984 -0.725154  1.624606   \n",
       "2      278614  168323.0  1.754189  0.230348  0.019154  3.927093 -0.087202   \n",
       "3       10160   15578.0  1.028419  0.252588  1.744422  2.801771 -0.613426   \n",
       "4          64      42.0 -0.522666  1.009923  0.276470  1.475289 -0.707013   \n",
       "\n",
       "         V6        V7        V8  ...         V21       V22       V23  \\\n",
       "0  0.764143 -0.673691  0.375930  ...    0.235474  0.539597  0.240714   \n",
       "1 -1.123202  0.151016  0.322056  ...    0.439623  0.855120 -0.058180   \n",
       "2  0.227146 -0.115704  0.053371  ...   -0.374842 -1.136878  0.441901   \n",
       "3  0.860407 -0.849896  0.375564  ...   -0.148324 -0.044123  0.103698   \n",
       "4  0.355243  1.559849 -0.399579  ...    0.172401  1.011543  0.069666   \n",
       "\n",
       "        V24       V25       V26       V27       V28  Amount  Class  \n",
       "0  0.691290 -0.349606 -0.055401 -0.011830 -0.033766   18.92      0  \n",
       "1  0.115257 -0.786822  0.591033  0.308595  0.055496   24.95      0  \n",
       "2 -0.183241 -0.580846 -0.508929 -0.005608 -0.019285   64.40      0  \n",
       "3  0.142224  0.132222 -0.080803  0.026917  0.016913    0.00      0  \n",
       "4  0.157820 -1.109224 -0.302369  0.318170  0.316910  243.66      0  \n",
       "\n",
       "[5 rows x 32 columns]"
      ]
     },
     "execution_count": 50,
     "metadata": {},
     "output_type": "execute_result"
    }
   ],
   "source": [
    "data.head()"
   ]
  },
  {
   "cell_type": "markdown",
   "metadata": {},
   "source": [
    "<p></p>\n",
    "\n",
    "Checking the the target class\n"
   ]
  },
  {
   "cell_type": "code",
   "execution_count": 8,
   "metadata": {},
   "outputs": [
    {
     "data": {
      "text/plain": [
       "Text(0,0.5,'value')"
      ]
     },
     "execution_count": 8,
     "metadata": {},
     "output_type": "execute_result"
    },
    {
     "data": {
      "image/png": "[encoded data removed]",
      "text/plain": [
       "<Figure size 432x288 with 1 Axes>"
      ]
     },
     "metadata": {},
     "output_type": "display_data"
    }
   ],
   "source": [
    "count=data['Class'].value_counts()\n",
    "count.plot(kind='bar')\n",
    "plt.xlabel('class')\n",
    "plt.ylabel('value')"
   ]
  },
  {
   "cell_type": "code",
   "execution_count": 9,
   "metadata": {
    "scrolled": true
   },
   "outputs": [
    {
     "data": {
      "text/html": [
       "<div>\n",
       "<style scoped>\n",
       "    .dataframe tbody tr th:only-of-type {\n",
       "        vertical-align: middle;\n",
       "    }\n",
       "\n",
       "    .dataframe tbody tr th {\n",
       "        vertical-align: top;\n",
       "    }\n",
       "\n",
       "    .dataframe thead th {\n",
       "        text-align: right;\n",
       "    }\n",
       "</style>\n",
       "<table border=\"1\" class=\"dataframe\">\n",
       "  <thead>\n",
       "    <tr style=\"text-align: right;\">\n",
       "      <th></th>\n",
       "      <th>Unnamed: 0</th>\n",
       "      <th>V1</th>\n",
       "      <th>V2</th>\n",
       "      <th>V3</th>\n",
       "      <th>V4</th>\n",
       "      <th>V5</th>\n",
       "      <th>V6</th>\n",
       "      <th>V7</th>\n",
       "      <th>V8</th>\n",
       "      <th>V9</th>\n",
       "      <th>...</th>\n",
       "      <th>V21</th>\n",
       "      <th>V22</th>\n",
       "      <th>V23</th>\n",
       "      <th>V24</th>\n",
       "      <th>V25</th>\n",
       "      <th>V26</th>\n",
       "      <th>V27</th>\n",
       "      <th>V28</th>\n",
       "      <th>Class</th>\n",
       "      <th>norm_amount</th>\n",
       "    </tr>\n",
       "  </thead>\n",
       "  <tbody>\n",
       "    <tr>\n",
       "      <th>0</th>\n",
       "      <td>182545</td>\n",
       "      <td>1.816429</td>\n",
       "      <td>0.146354</td>\n",
       "      <td>0.046576</td>\n",
       "      <td>3.598831</td>\n",
       "      <td>-0.119489</td>\n",
       "      <td>0.764143</td>\n",
       "      <td>-0.673691</td>\n",
       "      <td>0.375930</td>\n",
       "      <td>-0.534457</td>\n",
       "      <td>...</td>\n",
       "      <td>0.235474</td>\n",
       "      <td>0.539597</td>\n",
       "      <td>0.240714</td>\n",
       "      <td>0.691290</td>\n",
       "      <td>-0.349606</td>\n",
       "      <td>-0.055401</td>\n",
       "      <td>-0.011830</td>\n",
       "      <td>-0.033766</td>\n",
       "      <td>0</td>\n",
       "      <td>-0.294421</td>\n",
       "    </tr>\n",
       "    <tr>\n",
       "      <th>1</th>\n",
       "      <td>264950</td>\n",
       "      <td>-1.132632</td>\n",
       "      <td>-0.217753</td>\n",
       "      <td>-1.018984</td>\n",
       "      <td>-0.725154</td>\n",
       "      <td>1.624606</td>\n",
       "      <td>-1.123202</td>\n",
       "      <td>0.151016</td>\n",
       "      <td>0.322056</td>\n",
       "      <td>-0.238261</td>\n",
       "      <td>...</td>\n",
       "      <td>0.439623</td>\n",
       "      <td>0.855120</td>\n",
       "      <td>-0.058180</td>\n",
       "      <td>0.115257</td>\n",
       "      <td>-0.786822</td>\n",
       "      <td>0.591033</td>\n",
       "      <td>0.308595</td>\n",
       "      <td>0.055496</td>\n",
       "      <td>0</td>\n",
       "      <td>-0.269052</td>\n",
       "    </tr>\n",
       "    <tr>\n",
       "      <th>2</th>\n",
       "      <td>278614</td>\n",
       "      <td>1.754189</td>\n",
       "      <td>0.230348</td>\n",
       "      <td>0.019154</td>\n",
       "      <td>3.927093</td>\n",
       "      <td>-0.087202</td>\n",
       "      <td>0.227146</td>\n",
       "      <td>-0.115704</td>\n",
       "      <td>0.053371</td>\n",
       "      <td>-0.475027</td>\n",
       "      <td>...</td>\n",
       "      <td>-0.374842</td>\n",
       "      <td>-1.136878</td>\n",
       "      <td>0.441901</td>\n",
       "      <td>-0.183241</td>\n",
       "      <td>-0.580846</td>\n",
       "      <td>-0.508929</td>\n",
       "      <td>-0.005608</td>\n",
       "      <td>-0.019285</td>\n",
       "      <td>0</td>\n",
       "      <td>-0.103078</td>\n",
       "    </tr>\n",
       "    <tr>\n",
       "      <th>3</th>\n",
       "      <td>10160</td>\n",
       "      <td>1.028419</td>\n",
       "      <td>0.252588</td>\n",
       "      <td>1.744422</td>\n",
       "      <td>2.801771</td>\n",
       "      <td>-0.613426</td>\n",
       "      <td>0.860407</td>\n",
       "      <td>-0.849896</td>\n",
       "      <td>0.375564</td>\n",
       "      <td>1.171960</td>\n",
       "      <td>...</td>\n",
       "      <td>-0.148324</td>\n",
       "      <td>-0.044123</td>\n",
       "      <td>0.103698</td>\n",
       "      <td>0.142224</td>\n",
       "      <td>0.132222</td>\n",
       "      <td>-0.080803</td>\n",
       "      <td>0.026917</td>\n",
       "      <td>0.016913</td>\n",
       "      <td>0</td>\n",
       "      <td>-0.374021</td>\n",
       "    </tr>\n",
       "    <tr>\n",
       "      <th>4</th>\n",
       "      <td>64</td>\n",
       "      <td>-0.522666</td>\n",
       "      <td>1.009923</td>\n",
       "      <td>0.276470</td>\n",
       "      <td>1.475289</td>\n",
       "      <td>-0.707013</td>\n",
       "      <td>0.355243</td>\n",
       "      <td>1.559849</td>\n",
       "      <td>-0.399579</td>\n",
       "      <td>-0.479813</td>\n",
       "      <td>...</td>\n",
       "      <td>0.172401</td>\n",
       "      <td>1.011543</td>\n",
       "      <td>0.069666</td>\n",
       "      <td>0.157820</td>\n",
       "      <td>-1.109224</td>\n",
       "      <td>-0.302369</td>\n",
       "      <td>0.318170</td>\n",
       "      <td>0.316910</td>\n",
       "      <td>0</td>\n",
       "      <td>0.651104</td>\n",
       "    </tr>\n",
       "  </tbody>\n",
       "</table>\n",
       "<p>5 rows × 31 columns</p>\n",
       "</div>"
      ],
      "text/plain": [
       "   Unnamed: 0        V1        V2        V3        V4        V5        V6  \\\n",
       "0      182545  1.816429  0.146354  0.046576  3.598831 -0.119489  0.764143   \n",
       "1      264950 -1.132632 -0.217753 -1.018984 -0.725154  1.624606 -1.123202   \n",
       "2      278614  1.754189  0.230348  0.019154  3.927093 -0.087202  0.227146   \n",
       "3       10160  1.028419  0.252588  1.744422  2.801771 -0.613426  0.860407   \n",
       "4          64 -0.522666  1.009923  0.276470  1.475289 -0.707013  0.355243   \n",
       "\n",
       "         V7        V8        V9     ...            V21       V22       V23  \\\n",
       "0 -0.673691  0.375930 -0.534457     ...       0.235474  0.539597  0.240714   \n",
       "1  0.151016  0.322056 -0.238261     ...       0.439623  0.855120 -0.058180   \n",
       "2 -0.115704  0.053371 -0.475027     ...      -0.374842 -1.136878  0.441901   \n",
       "3 -0.849896  0.375564  1.171960     ...      -0.148324 -0.044123  0.103698   \n",
       "4  1.559849 -0.399579 -0.479813     ...       0.172401  1.011543  0.069666   \n",
       "\n",
       "        V24       V25       V26       V27       V28  Class  norm_amount  \n",
       "0  0.691290 -0.349606 -0.055401 -0.011830 -0.033766      0    -0.294421  \n",
       "1  0.115257 -0.786822  0.591033  0.308595  0.055496      0    -0.269052  \n",
       "2 -0.183241 -0.580846 -0.508929 -0.005608 -0.019285      0    -0.103078  \n",
       "3  0.142224  0.132222 -0.080803  0.026917  0.016913      0    -0.374021  \n",
       "4  0.157820 -1.109224 -0.302369  0.318170  0.316910      0     0.651104  \n",
       "\n",
       "[5 rows x 31 columns]"
      ]
     },
     "execution_count": 9,
     "metadata": {},
     "output_type": "execute_result"
    }
   ],
   "source": [
    "from sklearn.preprocessing import StandardScaler\n",
    "\n",
    "ss=StandardScaler()\n",
    "data['norm_amount']=ss.fit_transform(data['Amount'].values.reshape(-1,1))\n",
    "data=data.drop(['Amount','Time'],axis=1)\n",
    "data.head()"
   ]
  },
  {
   "cell_type": "code",
   "execution_count": 10,
   "metadata": {},
   "outputs": [],
   "source": [
    "data=data.iloc[:,1:]"
   ]
  },
  {
   "cell_type": "code",
   "execution_count": 11,
   "metadata": {},
   "outputs": [],
   "source": [
    "x=data.drop('Class',axis=1).values\n",
    "y=data.loc[:,'Class'].values"
   ]
  },
  {
   "cell_type": "markdown",
   "metadata": {},
   "source": [
    "UNDER-sampling"
   ]
  },
  {
   "cell_type": "code",
   "execution_count": 12,
   "metadata": {},
   "outputs": [],
   "source": [
    "number_frauds=len(data[data.Class==1])\n",
    "fraud_indices=np.array(data[data.Class==1].index)\n",
    "\n",
    "normal_indices=data[data.Class==0].index\n",
    "\n",
    "rand_normal_indices=np.random.choice(normal_indices,number_frauds,replace=False)\n",
    "\n",
    "under_sample_indices=np.concatenate([fraud_indices,rand_normal_indices])\n",
    "\n",
    "under_sample_data=data.iloc[under_sample_indices,:]\n",
    "\n",
    "X_undersample = under_sample_data.loc[:, under_sample_data.columns != 'Class'].values\n",
    "y_undersample = under_sample_data.loc[:, under_sample_data.columns == 'Class'].values.ravel()\n",
    "\n"
   ]
  },
  {
   "cell_type": "code",
   "execution_count": 13,
   "metadata": {},
   "outputs": [
    {
     "name": "stdout",
     "output_type": "stream",
     "text": [
      "Percentage of normal transactions: 0.5\n",
      "Percentage of fraud transactions: 0.5\n",
      "Total number of transactions in resampled data:  320\n"
     ]
    }
   ],
   "source": [
    "print(\"Percentage of normal transactions:\", len(under_sample_data[under_sample_data.Class==0])/\n",
    "     len(under_sample_data))\n",
    "print(\"Percentage of fraud transactions:\", len(under_sample_data[under_sample_data.Class==1])/\n",
    "     len(under_sample_data))\n",
    "print(\"Total number of transactions in resampled data: \", len(under_sample_data))"
   ]
  },
  {
   "cell_type": "markdown",
   "metadata": {},
   "source": [
    "Splitting data into train and test set"
   ]
  },
  {
   "cell_type": "code",
   "execution_count": 14,
   "metadata": {},
   "outputs": [
    {
     "name": "stdout",
     "output_type": "stream",
     "text": [
      "Number transactions train dataset:  59809\n",
      "Number transactions test dataset:  25633\n",
      "Total number of transactions:  85442\n",
      "\n",
      "Number transactions train dataset:  224\n",
      "Number transactions test dataset:  96\n",
      "Total number of transactions:  320\n"
     ]
    }
   ],
   "source": [
    "from sklearn.model_selection import train_test_split\n",
    "\n",
    "x_train,x_test,y_train,y_test=train_test_split(x, y, test_size=0.30, random_state=0)\n",
    "\n",
    "print(\"Number transactions train dataset: \", len(x_train))\n",
    "print(\"Number transactions test dataset: \", len(x_test))\n",
    "print(\"Total number of transactions: \", len(x_train)+len(x_test))\n",
    "\n",
    "x_train_undersample,x_test_undersample,y_train_undersample,y_test_undersample=train_test_split(\n",
    "X_undersample, y_undersample, test_size=0.30, random_state=0)\n",
    "\n",
    "print(\"\")\n",
    "print(\"Number transactions train dataset: \", len(x_train_undersample))\n",
    "print(\"Number transactions test dataset: \", len(x_test_undersample))\n",
    "print(\"Total number of transactions: \", len(x_train_undersample)+len(x_test_undersample))"
   ]
  },
  {
   "cell_type": "markdown",
   "metadata": {
    "collapsed": true
   },
   "source": [
    "<h2>Logistic regression classifier - Undersampled data</h2>"
   ]
  },
  {
   "cell_type": "code",
   "execution_count": 15,
   "metadata": {},
   "outputs": [],
   "source": [
    "from sklearn.linear_model import LogisticRegression\n",
    "from sklearn.model_selection import KFold, cross_val_score, GridSearchCV\n",
    "from sklearn.metrics import (make_scorer, accuracy_score, confusion_matrix, precision_recall_curve,\n",
    "                             auc,roc_curve, roc_auc_score ,recall_score, classification_report)"
   ]
  },
  {
   "cell_type": "code",
   "execution_count": 16,
   "metadata": {},
   "outputs": [
    {
     "name": "stdout",
     "output_type": "stream",
     "text": [
      "0.9162890061327561 {'C': 0.01} make_scorer(recall_score)\n"
     ]
    }
   ],
   "source": [
    "fold=KFold(n_splits=5,random_state=0)\n",
    "lr=LogisticRegression(random_state=0)\n",
    "score=make_scorer(recall_score)\n",
    "c=[0.01, 0.1,1,10,10]\n",
    "param={'C':c}\n",
    "grd=GridSearchCV(lr,param,scoring=score,cv=fold)\n",
    "grd.fit(x_train_undersample,y_train_undersample)\n",
    "print(grd.best_score_, grd.best_params_, grd.scorer_)"
   ]
  },
  {
   "cell_type": "code",
   "execution_count": 17,
   "metadata": {},
   "outputs": [],
   "source": [
    "#the best undersample model\n",
    "\n",
    "lr=LogisticRegression(C=0.01,random_state=0)\n",
    "lr.fit(x_train_undersample,y_train_undersample)\n",
    "y_pred_undersample=lr.predict(x_test_undersample)\n",
    "y_pred=lr.predict(x_test)"
   ]
  },
  {
   "cell_type": "code",
   "execution_count": 18,
   "metadata": {},
   "outputs": [],
   "source": [
    "import seaborn as sns\n",
    "def metric(y_t,y_p):\n",
    "    cm=confusion_matrix(y_t,y_p)\n",
    "    ac=accuracy_score(y_t,y_p)\n",
    "    print('accuracy',ac)\n",
    "    rs=recall_score(y_t,y_p)\n",
    "    print(\"recall_score\",rs)\n",
    "    df_cm=pd.DataFrame(cm,index=[i for i in['normal','fraud']],\n",
    "                       columns=[k for k in ['normal','fraud']])\n",
    "    sns.heatmap(df_cm,annot=True,cmap='Blues',fmt='g')\n",
    "    plt.title('Confusion matrix')\n",
    "    plt.ylabel('True label')\n",
    "    plt.xlabel('Predicted label')"
   ]
  },
  {
   "cell_type": "code",
   "execution_count": 19,
   "metadata": {},
   "outputs": [
    {
     "name": "stdout",
     "output_type": "stream",
     "text": [
      "accuracy 0.9270833333333334\n",
      "recall_score 0.9622641509433962\n"
     ]
    },
    {
     "data": {
      "image/png": "[encoded data removed]",
      "text/plain": [
       "<Figure size 432x288 with 2 Axes>"
      ]
     },
     "metadata": {},
     "output_type": "display_data"
    }
   ],
   "source": [
    "metric(y_test_undersample,y_pred_undersample)"
   ]
  },
  {
   "cell_type": "code",
   "execution_count": 20,
   "metadata": {},
   "outputs": [
    {
     "name": "stdout",
     "output_type": "stream",
     "text": [
      "accuracy 0.898529239652011\n",
      "recall_score 0.9310344827586207\n"
     ]
    },
    {
     "data": {
      "image/png": "[encoded data removed]",
      "text/plain": [
       "<Figure size 432x288 with 2 Axes>"
      ]
     },
     "metadata": {},
     "output_type": "display_data"
    }
   ],
   "source": [
    "metric(y_test,y_pred)"
   ]
  },
  {
   "cell_type": "markdown",
   "metadata": {
    "collapsed": true
   },
   "source": [
    "Still a very decent recall accuracy when applying it to a much larger and skewed dataset!"
   ]
  }
 ],
 "metadata": {
  "kernelspec": {
   "display_name": "Python 3",
   "language": "python",
   "name": "python3"
  },
  "language_info": {
   "codemirror_mode": {
    "name": "ipython",
    "version": 3
   },
   "file_extension": ".py",
   "mimetype": "text/x-python",
   "name": "python",
   "nbconvert_exporter": "python",
   "pygments_lexer": "ipython3",
   "version": "3.6.7"
  }
 },
 "nbformat": 4,
 "nbformat_minor": 2
}
